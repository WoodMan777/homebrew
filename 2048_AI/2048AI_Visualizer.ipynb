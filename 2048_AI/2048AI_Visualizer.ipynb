{
 "cells": [
  {
   "cell_type": "markdown",
   "id": "19bd4cf9",
   "metadata": {},
   "source": [
    "### 2048AI Data Visualizer"
   ]
  },
  {
   "cell_type": "code",
   "execution_count": 27,
   "id": "39fb8c2c",
   "metadata": {},
   "outputs": [],
   "source": [
    "from tools import Game\n",
    "import numpy as np\n",
    "import time\n",
    "import seaborn as sns\n",
    "import matplotlib.pyplot as plt\n",
    "import pandas as pd"
   ]
  },
  {
   "cell_type": "code",
   "execution_count": 147,
   "id": "3c2a85ff",
   "metadata": {},
   "outputs": [],
   "source": [
    "position = [[16,32,128,16], [4,2,64,8], [16,32,4,2], [2,8,4,2]]\n",
    "initial_score = 1444\n",
    "maxdepth = 5\n",
    "\n",
    "game = Game(position, initial_score)"
   ]
  },
  {
   "cell_type": "code",
   "execution_count": 148,
   "id": "d466b8ea",
   "metadata": {},
   "outputs": [
    {
     "name": "stdout",
     "output_type": "stream",
     "text": [
      "checking move: [1/4] Left. Nodes: 0\n",
      "checking move: [2/4] Right. Nodes: 0\n",
      "checking move: [3/4] Up. Nodes: 0\n",
      "checking move: [4/4] Down. Nodes: 290380\n",
      "Calculations completed \n",
      "Time Elapsed: 46.56353282928467 sec.\n",
      "Total nodes: 992452\n",
      "Node generation speed: 21313.932592671074 nodes/sec.\n"
     ]
    }
   ],
   "source": [
    "def analyse(states, currdepth, maxdepth):\n",
    "    if currdepth == maxdepth:\n",
    "        return states\n",
    "    else:\n",
    "        newstates = []\n",
    "        for i in states:\n",
    "            newstates += i.getAllPossibleGameStatesAfterMove()\n",
    "        return analyse(newstates, currdepth+1, maxdepth)\n",
    "\n",
    "\n",
    "\n",
    "evalLeft = 0\n",
    "\n",
    "\n",
    "st = time.time()\n",
    "totalNodes = 0\n",
    "\n",
    "print(f\"checking move: [1/4] Left. Nodes: {totalNodes}\")\n",
    "gameMovedLeft = game.getSelfDeepCopy()\n",
    "possible = gameMovedLeft.isMoveLegal('L')\n",
    "if not possible:\n",
    "    leftStates = []\n",
    "else:\n",
    "    gameMovedLeft.moveLeft()\n",
    "    leftStates = analyse(gameMovedLeft.getAllPossibleGameStatesAfterMove(), 0, maxdepth)\n",
    "\n",
    "totalNodes += len(leftStates)\n",
    "print(f\"checking move: [2/4] Right. Nodes: {totalNodes}\")\n",
    "gameMovedRight = game.getSelfDeepCopy()\n",
    "possible = gameMovedRight.isMoveLegal('R')\n",
    "if not possible:\n",
    "    rightStates = []\n",
    "else:\n",
    "    gameMovedRight.moveRight()\n",
    "    rightStates = analyse(gameMovedRight.getAllPossibleGameStatesAfterMove(), 0, maxdepth)\n",
    "\n",
    "totalNodes += len(rightStates)\n",
    "print(f\"checking move: [3/4] Up. Nodes: {totalNodes}\")    \n",
    "gameMovedUp = game.getSelfDeepCopy()\n",
    "possible = gameMovedUp.isMoveLegal('U')\n",
    "if not possible:\n",
    "    upStates = []\n",
    "else:\n",
    "    gameMovedUp.moveUp()\n",
    "    upStates = analyse(gameMovedUp.getAllPossibleGameStatesAfterMove(), 0, maxdepth)\n",
    "\n",
    "\n",
    "totalNodes += len(upStates)\n",
    "print(f\"checking move: [4/4] Down. Nodes: {totalNodes}\")\n",
    "gameMovedDown = game.getSelfDeepCopy()\n",
    "possible = gameMovedDown.isMoveLegal('D')\n",
    "if not possible:\n",
    "    downStates = []\n",
    "else:\n",
    "    gameMovedDown.moveDown()\n",
    "    downStates = analyse(gameMovedDown.getAllPossibleGameStatesAfterMove(), 0, maxdepth)\n",
    "\n",
    "en = time.time()\n",
    "\n",
    "print(\"Calculations completed \")\n",
    "print(f\"Time Elapsed: {en - st} sec.\")\n",
    "totalNodes = len(leftStates) + len(rightStates) + len(upStates) + len(downStates)\n",
    "print(f\"Total nodes: {totalNodes}\")\n",
    "print(f\"Node generation speed: {totalNodes / (en-st)} nodes/sec.\")"
   ]
  },
  {
   "cell_type": "markdown",
   "id": "7ed4400f",
   "metadata": {},
   "source": [
    "$O(N^2) \\leq x \\leq O(N^{120})$"
   ]
  },
  {
   "cell_type": "code",
   "execution_count": 149,
   "id": "ebb93f8e",
   "metadata": {},
   "outputs": [
    {
     "name": "stdout",
     "output_type": "stream",
     "text": [
      "Summary:\n",
      "\n",
      "\n",
      "\n",
      "leftStates: 0\n",
      "rightStates: 0\n",
      "upStates: 290380\n",
      "downStates: 702072\n"
     ]
    }
   ],
   "source": [
    "print(\"Summary:\")\n",
    "print(\"\\n\\n\")\n",
    "print(f\"leftStates: {len(leftStates)}\")\n",
    "print(f\"rightStates: {len(rightStates)}\")\n",
    "print(f\"upStates: {len(upStates)}\")\n",
    "print(f\"downStates: {len(downStates)}\")"
   ]
  },
  {
   "cell_type": "code",
   "execution_count": 150,
   "id": "a6feaf5c",
   "metadata": {},
   "outputs": [],
   "source": [
    "leftScores = []\n",
    "rightScores = []\n",
    "upScores = []\n",
    "downScores = []\n",
    "\n",
    "for i in leftStates:\n",
    "    leftScores.append(i.score)\n",
    "for i in rightStates:\n",
    "    rightScores.append(i.score)\n",
    "for i in upStates:\n",
    "    upScores.append(i.score)\n",
    "for i in downStates:\n",
    "    downScores.append(i.score)\n",
    "\n",
    "leftScores = np.array(leftScores)\n",
    "rightScores = np.array(rightScores)\n",
    "upScores = np.array(upScores)\n",
    "downScores = np.array(downScores)"
   ]
  },
  {
   "cell_type": "code",
   "execution_count": 151,
   "id": "421198f1",
   "metadata": {
    "scrolled": true
   },
   "outputs": [
    {
     "data": {
      "image/png": "[encoded data removed]",
      "text/plain": [
       "<Figure size 432x288 with 1 Axes>"
      ]
     },
     "metadata": {
      "needs_background": "light"
     },
     "output_type": "display_data"
    }
   ],
   "source": [
    "sns.boxplot(data = (leftScores, rightScores, upScores, downScores))\n",
    "plt.show()"
   ]
  },
  {
   "cell_type": "code",
   "execution_count": 152,
   "id": "abd122d6",
   "metadata": {},
   "outputs": [
    {
     "name": "stdout",
     "output_type": "stream",
     "text": [
      "left: nan\n",
      "right: nan\n",
      "up: 1540.0\n",
      "down: 1544.0\n",
      "Computer suggestion is: Down\n"
     ]
    },
    {
     "name": "stderr",
     "output_type": "stream",
     "text": [
      "C:\\Users\\Peter\\anaconda3\\lib\\site-packages\\numpy\\core\\fromnumeric.py:3441: RuntimeWarning: Mean of empty slice.\n",
      "  out=out, **kwargs)\n",
      "C:\\Users\\Peter\\anaconda3\\lib\\site-packages\\numpy\\core\\_methods.py:189: RuntimeWarning: invalid value encountered in double_scalars\n",
      "  ret = ret.dtype.type(ret / rcount)\n"
     ]
    }
   ],
   "source": [
    "print(f\"left: {np.median(leftScores)}\")\n",
    "print(f\"right: {np.median(rightScores)}\")\n",
    "print(f\"up: {np.median(upScores)}\")\n",
    "print(f\"down: {np.median(downScores)}\")\n",
    "supernan = np.median([])\n",
    "allArray = [np.median(leftScores), np.median(rightScores), np.median(upScores), np.median(downScores)]\n",
    "lenArray = [len(leftScores), len(rightScores), len(upScores), len(downScores)]\n",
    "for i in range(4):\n",
    "    if lenArray[i] == 0:\n",
    "        allArray[i] = 0\n",
    "\n",
    "\n",
    "maxScore = np.max(allArray)\n",
    "index = allArray.index(maxScore)\n",
    "moves = [\"Left\", \"Right\", \"Up\", \"Down\"]\n",
    "print(f\"Computer suggestion is: {moves[index]}\")"
   ]
  },
  {
   "cell_type": "code",
   "execution_count": 153,
   "id": "8f1d9a6f",
   "metadata": {},
   "outputs": [
    {
     "name": "stdout",
     "output_type": "stream",
     "text": [
      "1536.0\n",
      "1644.0\n"
     ]
    }
   ],
   "source": [
    "print(np.percentile(downScores, 10))\n",
    "print(np.percentile(downScores, 90))"
   ]
  }
 ],
 "metadata": {
  "kernelspec": {
   "display_name": "Python 3",
   "language": "python",
   "name": "python3"
  },
  "language_info": {
   "codemirror_mode": {
    "name": "ipython",
    "version": 3
   },
   "file_extension": ".py",
   "mimetype": "text/x-python",
   "name": "python",
   "nbconvert_exporter": "python",
   "pygments_lexer": "ipython3",
   "version": "3.7.16"
  }
 },
 "nbformat": 4,
 "nbformat_minor": 5
}
